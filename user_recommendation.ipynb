{
 "cells": [
  {
   "cell_type": "code",
   "execution_count": 1,
   "metadata": {
    "colab": {},
    "colab_type": "code",
    "id": "F4fnqbaveRWK"
   },
   "outputs": [],
   "source": [
    "#import libraries\n",
    "import pandas as pd\n",
    "from sklearn.feature_extraction.text import TfidfVectorizer\n",
    "from sklearn.metrics.pairwise import linear_kernel"
   ]
  },
  {
   "cell_type": "code",
   "execution_count": 2,
   "metadata": {
    "colab": {},
    "colab_type": "code",
    "id": "wjlv8pZKeQUD"
   },
   "outputs": [],
   "source": [
    "#reading the csv file\n",
    "ds = pd.read_json(\"json_data/lucid_table_users.json\")\n",
    "#renaming the empty rows with space\n",
    "ds = ds.fillna(' ')"
   ]
  },
  {
   "cell_type": "code",
   "execution_count": 3,
   "metadata": {
    "colab": {
     "base_uri": "https://localhost:8080/",
     "height": 34
    },
    "colab_type": "code",
    "id": "QCzj1O0aa63E",
    "outputId": "a0e6515e-3f6b-4fe3-8111-d092711ca389"
   },
   "outputs": [
    {
     "name": "stdout",
     "output_type": "stream",
     "text": [
      "done!\n"
     ]
    }
   ],
   "source": [
    "#analyzing the words in the column and removing common stop words, calculating the cosine similarities\n",
    "tf = TfidfVectorizer(analyzer='word', ngram_range=(1, 3), min_df=0, stop_words='english')\n",
    "tfidf_matrix = tf.fit_transform(ds['short_bio'])\n",
    "\n",
    "cosine_similarities = linear_kernel(tfidf_matrix, tfidf_matrix)\n",
    "\n",
    "results = {}\n",
    "\n",
    "for idx, row in ds.iterrows():\n",
    "    similar_indices = cosine_similarities[idx].argsort()[:-100:-1]\n",
    "    similar_items = [(cosine_similarities[idx][i], ds['id'][i]) for i in similar_indices]\n",
    "\n",
    "    results[row['id']] = similar_items[1:]\n",
    "    \n",
    "print('done!')\n"
   ]
  },
  {
   "cell_type": "code",
   "execution_count": 4,
   "metadata": {
    "colab": {},
    "colab_type": "code",
    "id": "g94OZfp_HW9V"
   },
   "outputs": [],
   "source": [
    "def item(id):\n",
    "    return ds.loc[ds['id'] == id]['short_bio'].tolist()[0].split(' - ')[0]\n",
    "\n",
    "# a function that reads the results out of the column and the amount of results wanted.\n",
    "def recommend(item_id, num):\n",
    "    print(\"Recommending \" + str(num) + \" people similar to \" + item(item_id) + \"...\")\n",
    "    print(\"-------\")\n",
    "    recs = results[item_id][:num]\n",
    "    for rec in recs:\n",
    "        print(\"Recommended: \" + item(rec[1]) + \" (score:\" + str(rec[0]) + \")\")\n"
   ]
  },
  {
   "cell_type": "code",
   "execution_count": 5,
   "metadata": {
    "colab": {
     "base_uri": "https://localhost:8080/",
     "height": 391
    },
    "colab_type": "code",
    "id": "DvIe1ihdHXAY",
    "outputId": "8f71a649-3797-421c-ce77-2a11cc49e40a"
   },
   "outputs": [
    {
     "name": "stdout",
     "output_type": "stream",
     "text": [
      "Recommending 20 people similar to Software Developer | DevOPs Engineer...\n",
      "-------\n",
      "Recommended: | Software Developer | DevOps Engineer | @linuxjobber (score:0.8005910040856886)\n",
      "Recommended: Software developer (score:0.3537003554834601)\n",
      "Recommended: Software Developer (score:0.3537003554834601)\n",
      "Recommended: Software Developer (score:0.3537003554834601)\n",
      "Recommended: Am a software developer (score:0.3537003554834601)\n",
      "Recommended: Software developer (score:0.3537003554834601)\n",
      "Recommended: Software Developer (score:0.3537003554834601)\n",
      "Recommended: Software Developer (score:0.3537003554834601)\n",
      "Recommended: Software developer (score:0.3537003554834601)\n",
      "Recommended: Software Developer (score:0.3537003554834601)\n",
      "Recommended: Software Developer (score:0.3537003554834601)\n",
      "Recommended: An engineer (score:0.2339796470705172)\n",
      "Recommended: Engineer (score:0.2339796470705172)\n",
      "Recommended: Software Engineer (score:0.23150932898479748)\n",
      "Recommended: Software engineer (score:0.23150932898479748)\n",
      "Recommended: Software Engineer...Here and there (score:0.23150932898479748)\n",
      "Recommended: I'm a software and how do I engineer (score:0.23150932898479748)\n",
      "Recommended: Software Engineer (score:0.23150932898479748)\n",
      "Recommended: Software Engineer (score:0.23150932898479748)\n",
      "Recommended: Software Engineer (score:0.23150932898479748)\n"
     ]
    }
   ],
   "source": [
    "#item_id is the number of the item in the column, num is te number of results to be displayed\n",
    "recommend(item_id=1, num=20)"
   ]
  },
  {
   "cell_type": "code",
   "execution_count": null,
   "metadata": {},
   "outputs": [],
   "source": []
  }
 ],
 "metadata": {
  "colab": {
   "collapsed_sections": [],
   "name": "user_recommendation.ipynb",
   "provenance": []
  },
  "kernelspec": {
   "display_name": "Python 3",
   "language": "python",
   "name": "python3"
  },
  "language_info": {
   "codemirror_mode": {
    "name": "ipython",
    "version": 3
   },
   "file_extension": ".py",
   "mimetype": "text/x-python",
   "name": "python",
   "nbconvert_exporter": "python",
   "pygments_lexer": "ipython3",
   "version": "3.7.2"
  }
 },
 "nbformat": 4,
 "nbformat_minor": 1
}
